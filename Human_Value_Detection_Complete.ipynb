{
 "cells": [
  {
   "cell_type": "code",
   "execution_count": 1,
   "id": "54f56e41",
   "metadata": {},
   "outputs": [
    {
     "name": "stdout",
     "output_type": "stream",
     "text": [
      "Arguments shape: (1576, 4)\n",
      "Labels shape: (1576, 21)\n"
     ]
    }
   ],
   "source": [
    "import pandas as pd\n",
    "\n",
    "# Load arguments file\n",
    "args_df = pd.read_csv(\"argumentstest.tsv\", sep='\\t')\n",
    "\n",
    "# Load labels file\n",
    "labels_df = pd.read_csv(\"labelstest.tsv\", sep='\\t')\n",
    "\n",
    "print(\"Arguments shape:\", args_df.shape)\n",
    "print(\"Labels shape:\", labels_df.shape)"
   ]
  },
  {
   "cell_type": "code",
   "execution_count": 2,
   "id": "d2b18fc4",
   "metadata": {},
   "outputs": [
    {
     "name": "stdout",
     "output_type": "stream",
     "text": [
      "Merged shape: (1576, 24)\n",
      "Columns: Index(['Argument ID', 'Conclusion', 'Stance', 'Premise',\n",
      "       'Self-direction: thought', 'Self-direction: action', 'Stimulation',\n",
      "       'Hedonism', 'Achievement', 'Power: dominance', 'Power: resources',\n",
      "       'Face', 'Security: personal', 'Security: societal', 'Tradition',\n",
      "       'Conformity: rules', 'Conformity: interpersonal', 'Humility',\n",
      "       'Benevolence: caring', 'Benevolence: dependability',\n",
      "       'Universalism: concern', 'Universalism: nature',\n",
      "       'Universalism: tolerance', 'Universalism: objectivity'],\n",
      "      dtype='object')\n"
     ]
    }
   ],
   "source": [
    "merged_df = pd.merge(args_df, labels_df, on='Argument ID')\n",
    "print(\"Merged shape:\", merged_df.shape)"
   ]
  },
  {
   "cell_type": "code",
   "execution_count": 3,
   "id": "70e30d82",
   "metadata": {},
   "outputs": [
    {
     "name": "stdout",
     "output_type": "stream",
     "text": [
      "                                                text\n",
      "0  We should end affirmative action against affir...\n",
      "1  We should end affirmative action in favor of a...\n",
      "2  We should ban naturopathy in favor of naturopa...\n",
      "3  We should prohibit women in combat in favor of...\n",
      "4  We should ban naturopathy in favor of once era...\n"
     ]
    }
   ],
   "source": [
    "merged_df['text'] = merged_df['Conclusion'] + \" \" + merged_df['Stance'] + \" \" + merged_df['Premise']\n",
    "print(merged_df[['text']].head())"
   ]
  },
  {
   "cell_type": "code",
   "execution_count": 4,
   "id": "b5c8cdf8",
   "metadata": {},
   "outputs": [
    {
     "name": "stdout",
     "output_type": "stream",
     "text": [
      "Label columns detected: ['Self-direction: thought', 'Self-direction: action', 'Stimulation', 'Hedonism', 'Achievement', 'Power: dominance', 'Power: resources', 'Face', 'Security: personal', 'Security: societal', 'Tradition', 'Conformity: rules', 'Conformity: interpersonal', 'Humility', 'Benevolence: caring', 'Benevolence: dependability', 'Universalism: concern', 'Universalism: nature', 'Universalism: tolerance', 'Universalism: objectivity']\n"
     ]
    }
   ],
   "source": [
    "text_cols = ['Argument ID', 'Conclusion', 'Stance', 'Premise', 'text']\n",
    "label_columns = [col for col in merged_df.columns if col not in text_cols]\n",
    "print(\"Label columns detected:\", label_columns)"
   ]
  },
  {
   "cell_type": "code",
   "execution_count": 6,
   "id": "1ebd839b",
   "metadata": {},
   "outputs": [],
   "source": [
    "merged_df.to_csv(\"final_data_with_labels.csv\", index=False)"
   ]
  },
  {
   "cell_type": "code",
   "execution_count": 7,
   "id": "c30ab167",
   "metadata": {},
   "outputs": [],
   "source": [
    "from transformers import BertTokenizer\n",
    "\n",
    "# Load BERT tokenizer\n",
    "tokenizer = BertTokenizer.from_pretrained('bert-base-uncased')\n",
    "\n",
    "# Tokenize the combined text column\n",
    "encoded_inputs = tokenizer(\n",
    "    merged_df['text'].tolist(),   # list of texts\n",
    "    padding=True,\n",
    "    truncation=True,\n",
    "    max_length=512,\n",
    "    return_tensors='pt'  # PyTorch tensors\n",
    ")"
   ]
  },
  {
   "cell_type": "code",
   "execution_count": 8,
   "id": "7b65ff40",
   "metadata": {},
   "outputs": [
    {
     "name": "stdout",
     "output_type": "stream",
     "text": [
      "KeysView({'input_ids': tensor([[ 101, 2057, 2323,  ...,    0,    0,    0],\n",
      "        [ 101, 2057, 2323,  ...,    0,    0,    0],\n",
      "        [ 101, 2057, 2323,  ...,    0,    0,    0],\n",
      "        ...,\n",
      "        [ 101, 2057, 2323,  ...,    0,    0,    0],\n",
      "        [ 101, 2057, 2323,  ...,    0,    0,    0],\n",
      "        [ 101, 2057, 2323,  ...,    0,    0,    0]]), 'token_type_ids': tensor([[0, 0, 0,  ..., 0, 0, 0],\n",
      "        [0, 0, 0,  ..., 0, 0, 0],\n",
      "        [0, 0, 0,  ..., 0, 0, 0],\n",
      "        ...,\n",
      "        [0, 0, 0,  ..., 0, 0, 0],\n",
      "        [0, 0, 0,  ..., 0, 0, 0],\n",
      "        [0, 0, 0,  ..., 0, 0, 0]]), 'attention_mask': tensor([[1, 1, 1,  ..., 0, 0, 0],\n",
      "        [1, 1, 1,  ..., 0, 0, 0],\n",
      "        [1, 1, 1,  ..., 0, 0, 0],\n",
      "        ...,\n",
      "        [1, 1, 1,  ..., 0, 0, 0],\n",
      "        [1, 1, 1,  ..., 0, 0, 0],\n",
      "        [1, 1, 1,  ..., 0, 0, 0]])})\n",
      "torch.Size([1576, 189])\n"
     ]
    }
   ],
   "source": [
    "print(encoded_inputs.keys())  # To see what keys are returned (usually 'input_ids', 'attention_mask', maybe 'token_type_ids')\n",
    "\n",
    "print(encoded_inputs['input_ids'].shape)  # Shape of token IDs tensor, e.g., (number_of_samples, max_length)"
   ]
  },
  {
   "cell_type": "code",
   "execution_count": 9,
   "id": "cf0214e6",
   "metadata": {},
   "outputs": [
    {
     "name": "stdout",
     "output_type": "stream",
     "text": [
      "Labels tensor shape: torch.Size([1576, 20])\n"
     ]
    }
   ],
   "source": [
    "import torch\n",
    "\n",
    "# Extract label values as float tensors (required for BCEWithLogitsLoss)\n",
    "labels = torch.tensor(merged_df[label_columns].values).float()\n",
    "\n",
    "print(\"Labels tensor shape:\", labels.shape)"
   ]
  },
  {
   "cell_type": "code",
   "execution_count": 10,
   "id": "9194acfb",
   "metadata": {},
   "outputs": [
    {
     "name": "stdout",
     "output_type": "stream",
     "text": [
      "Labels tensor shape: torch.Size([1576, 20])\n"
     ]
    }
   ],
   "source": [
    "import torch\n",
    "\n",
    "# Extract label values as float tensors (required for BCEWithLogitsLoss)\n",
    "labels = torch.tensor(merged_df[label_columns].values).float()\n",
    "\n",
    "print(\"Labels tensor shape:\", labels.shape)"
   ]
  },
  {
   "cell_type": "code",
   "execution_count": 11,
   "id": "a8674390",
   "metadata": {},
   "outputs": [],
   "source": [
    "from torch.utils.data import Dataset, DataLoader\n",
    "\n",
    "class HumanValuesDataset(Dataset):\n",
    "    def __init__(self, encodings, labels):\n",
    "        self.encodings = encodings\n",
    "        self.labels = labels\n",
    "        \n",
    "    def __len__(self):\n",
    "        return len(self.labels)\n",
    "    \n",
    "    def __getitem__(self, idx):\n",
    "        # Get all encoding inputs for the index idx (input_ids, attention_mask, etc.)\n",
    "        item = {key: val[idx] for key, val in self.encodings.items()}\n",
    "        item['labels'] = self.labels[idx]\n",
    "        return item\n",
    "\n",
    "# Create dataset\n",
    "dataset = HumanValuesDataset(encoded_inputs, labels)\n",
    "\n",
    "# Split into train and validation (80-20)\n",
    "train_size = int(0.8 * len(dataset))\n",
    "val_size = len(dataset) - train_size\n",
    "\n",
    "train_dataset, val_dataset = torch.utils.data.random_split(dataset, [train_size, val_size])\n",
    "\n",
    "# Create DataLoaders\n",
    "batch_size = 8\n",
    "\n",
    "train_loader = DataLoader(train_dataset, batch_size=batch_size, shuffle=True)\n",
    "val_loader = DataLoader(val_dataset, batch_size=batch_size)"
   ]
  },
  {
   "cell_type": "code",
   "execution_count": 12,
   "id": "abb894f6",
   "metadata": {},
   "outputs": [
    {
     "name": "stdout",
     "output_type": "stream",
     "text": [
      "Dataset size: 1576\n",
      "Train size: 1260\n",
      "Validation size: 316\n",
      "Keys in one batch: dict_keys(['input_ids', 'token_type_ids', 'attention_mask', 'labels'])\n",
      "Shape of input_ids: torch.Size([8, 189])\n",
      "Shape of labels: torch.Size([8, 20])\n"
     ]
    }
   ],
   "source": [
    "# Check dataset size and sample item\n",
    "print(\"Dataset size:\", len(dataset))\n",
    "print(\"Train size:\", len(train_dataset))\n",
    "print(\"Validation size:\", len(val_dataset))\n",
    "\n",
    "# Optional: check one batch of input\n",
    "batch = next(iter(train_loader))\n",
    "print(\"Keys in one batch:\", batch.keys())\n",
    "print(\"Shape of input_ids:\", batch['input_ids'].shape)\n",
    "print(\"Shape of labels:\", batch['labels'].shape)"
   ]
  },
  {
   "cell_type": "code",
   "execution_count": 13,
   "id": "0e58cc5f",
   "metadata": {},
   "outputs": [
    {
     "name": "stderr",
     "output_type": "stream",
     "text": [
      "Some weights of BertForSequenceClassification were not initialized from the model checkpoint at bert-base-uncased and are newly initialized: ['classifier.bias', 'classifier.weight']\n",
      "You should probably TRAIN this model on a down-stream task to be able to use it for predictions and inference.\n"
     ]
    },
    {
     "name": "stdout",
     "output_type": "stream",
     "text": [
      "\n",
      "Epoch 1/3\n"
     ]
    },
    {
     "name": "stderr",
     "output_type": "stream",
     "text": [
      "Epoch 1: 100%|██████████| 158/158 [37:22<00:00, 14.19s/it, loss=0.336]\n"
     ]
    },
    {
     "name": "stdout",
     "output_type": "stream",
     "text": [
      "Epoch 1 finished. Avg Loss: 0.4321\n",
      "\n",
      "Epoch 2/3\n"
     ]
    },
    {
     "name": "stderr",
     "output_type": "stream",
     "text": [
      "Epoch 2: 100%|██████████| 158/158 [32:51<00:00, 12.48s/it, loss=0.341]\n"
     ]
    },
    {
     "name": "stdout",
     "output_type": "stream",
     "text": [
      "Epoch 2 finished. Avg Loss: 0.3541\n",
      "\n",
      "Epoch 3/3\n"
     ]
    },
    {
     "name": "stderr",
     "output_type": "stream",
     "text": [
      "Epoch 3: 100%|██████████| 158/158 [32:31<00:00, 12.35s/it, loss=0.257]"
     ]
    },
    {
     "name": "stdout",
     "output_type": "stream",
     "text": [
      "Epoch 3 finished. Avg Loss: 0.3195\n"
     ]
    },
    {
     "name": "stderr",
     "output_type": "stream",
     "text": [
      "\n"
     ]
    }
   ],
   "source": [
    "from transformers import BertTokenizer, BertModel, BertForSequenceClassification, get_scheduler\n",
    "import torch\n",
    "import torch.nn as nn\n",
    "from torch.optim import Adam\n",
    "from tqdm import tqdm\n",
    "\n",
    "# Define number of labels (20 human values)\n",
    "num_labels = len(label_columns)\n",
    "\n",
    "# Load pre-trained BERT model for sequence classification\n",
    "model = BertForSequenceClassification.from_pretrained(\n",
    "    'bert-base-uncased',\n",
    "    num_labels=num_labels,\n",
    "    problem_type='multi_label_classification'\n",
    ")\n",
    "\n",
    "# Move model to GPU if available\n",
    "device = torch.device(\"cuda\") if torch.cuda.is_available() else torch.device(\"cpu\")\n",
    "model.to(device)\n",
    "\n",
    "# Define optimizer and loss function\n",
    "optimizer = Adam(model.parameters(), lr=2e-5)\n",
    "loss_fn = nn.BCEWithLogitsLoss()\n",
    "\n",
    "# Training parameters\n",
    "epochs = 3\n",
    "\n",
    "# Training loop\n",
    "for epoch in range(epochs):\n",
    "    model.train()\n",
    "    total_loss = 0\n",
    "\n",
    "    print(f\"\\nEpoch {epoch+1}/{epochs}\")\n",
    "    loop = tqdm(train_loader, leave=True)\n",
    "\n",
    "    for batch in loop:\n",
    "        optimizer.zero_grad()\n",
    "\n",
    "        # Move batch to device\n",
    "        input_ids = batch['input_ids'].to(device)\n",
    "        attention_mask = batch['attention_mask'].to(device)\n",
    "        labels = batch['labels'].to(device).float()\n",
    "\n",
    "        # Forward pass\n",
    "        outputs = model(input_ids=input_ids, attention_mask=attention_mask)\n",
    "        logits = outputs.logits\n",
    "\n",
    "        # Compute loss\n",
    "        loss = loss_fn(logits, labels)\n",
    "        total_loss += loss.item()\n",
    "\n",
    "        # Backward pass\n",
    "        loss.backward()\n",
    "        optimizer.step()\n",
    "\n",
    "        # Progress bar\n",
    "        loop.set_description(f\"Epoch {epoch+1}\")\n",
    "        loop.set_postfix(loss=loss.item())\n",
    "\n",
    "    print(f\"Epoch {epoch+1} finished. Avg Loss: {total_loss / len(train_loader):.4f}\")"
   ]
  },
  {
   "cell_type": "code",
   "execution_count": 14,
   "id": "7e756834",
   "metadata": {},
   "outputs": [
    {
     "name": "stdout",
     "output_type": "stream",
     "text": [
      "Precision: 0.7143\n",
      "Recall:    0.2456\n",
      "F1 Score:  0.3655\n"
     ]
    }
   ],
   "source": [
    "from sklearn.metrics import f1_score, precision_score, recall_score\n",
    "import torch\n",
    "\n",
    "model.eval()  # Set the model to evaluation mode\n",
    "\n",
    "all_preds = []\n",
    "all_labels = []\n",
    "\n",
    "# No gradient needed during evaluation\n",
    "with torch.no_grad():\n",
    "    for batch in val_loader:\n",
    "        input_ids = batch['input_ids']\n",
    "        attention_mask = batch['attention_mask']\n",
    "        labels = batch['labels']\n",
    "\n",
    "        outputs = model(input_ids=input_ids, attention_mask=attention_mask)\n",
    "        logits = outputs.logits\n",
    "\n",
    "        # Apply sigmoid to get probabilities\n",
    "        probs = torch.sigmoid(logits)\n",
    "\n",
    "        # Convert probabilities to binary predictions (threshold = 0.5)\n",
    "        preds = (probs > 0.5).int()\n",
    "\n",
    "        all_preds.append(preds)\n",
    "        all_labels.append(labels)\n",
    "\n",
    "# Concatenate all predictions and labels\n",
    "all_preds = torch.cat(all_preds, dim=0)\n",
    "all_labels = torch.cat(all_labels, dim=0)\n",
    "\n",
    "# Convert to numpy for sklearn\n",
    "y_pred = all_preds.cpu().numpy()\n",
    "y_true = all_labels.cpu().numpy()\n",
    "\n",
    "# Compute scores\n",
    "precision = precision_score(y_true, y_pred, average='micro')\n",
    "recall = recall_score(y_true, y_pred, average='micro')\n",
    "f1 = f1_score(y_true, y_pred, average='micro')\n",
    "\n",
    "print(f\"Precision: {precision:.4f}\")\n",
    "print(f\"Recall:    {recall:.4f}\")\n",
    "print(f\"F1 Score:  {f1:.4f}\")"
   ]
  },
  {
   "cell_type": "code",
   "execution_count": 15,
   "id": "593702fb",
   "metadata": {},
   "outputs": [
    {
     "name": "stdout",
     "output_type": "stream",
     "text": [
      "Prediction shape: (316, 20)\n",
      "True label shape: (316, 20)\n"
     ]
    }
   ],
   "source": [
    "print(\"Prediction shape:\", y_pred.shape)\n",
    "print(\"True label shape:\", y_true.shape)"
   ]
  },
  {
   "cell_type": "code",
   "execution_count": 16,
   "id": "8bfdbe61",
   "metadata": {},
   "outputs": [
    {
     "name": "stdout",
     "output_type": "stream",
     "text": [
      "Argument ID                   0\n",
      "Conclusion                    0\n",
      "Stance                        0\n",
      "Premise                       0\n",
      "Self-direction: thought       0\n",
      "Self-direction: action        0\n",
      "Stimulation                   0\n",
      "Hedonism                      0\n",
      "Achievement                   0\n",
      "Power: dominance              0\n",
      "Power: resources              0\n",
      "Face                          0\n",
      "Security: personal            0\n",
      "Security: societal            0\n",
      "Tradition                     0\n",
      "Conformity: rules             0\n",
      "Conformity: interpersonal     0\n",
      "Humility                      0\n",
      "Benevolence: caring           0\n",
      "Benevolence: dependability    0\n",
      "Universalism: concern         0\n",
      "Universalism: nature          0\n",
      "Universalism: tolerance       0\n",
      "Universalism: objectivity     0\n",
      "text                          0\n",
      "dtype: int64\n",
      "Duplicate Argument IDs: 0\n"
     ]
    },
    {
     "data": {
      "image/png": "[encoded data removed]",
      "text/plain": [
       "<Figure size 1000x500 with 1 Axes>"
      ]
     },
     "metadata": {},
     "output_type": "display_data"
    }
   ],
   "source": [
    "# Check label distribution\n",
    "label_cols = labels_df.columns.difference(['Argument ID'])\n",
    "merged_df[label_cols].sum().sort_values(ascending=False).plot(kind='bar', figsize=(10,5))\n",
    "\n",
    "# Check for missing values\n",
    "print(merged_df.isnull().sum())\n",
    "\n",
    "# Check for duplicate Argument IDs\n",
    "print(\"Duplicate Argument IDs:\", merged_df['Argument ID'].duplicated().sum())"
   ]
  },
  {
   "cell_type": "code",
   "execution_count": 17,
   "id": "b771c552",
   "metadata": {},
   "outputs": [
    {
     "data": {
      "image/png": "[encoded data removed]",
      "text/plain": [
       "<Figure size 600x400 with 1 Axes>"
      ]
     },
     "metadata": {},
     "output_type": "display_data"
    }
   ],
   "source": [
    "import matplotlib.pyplot as plt\n",
    "\n",
    "metrics = {\n",
    "    'Precision': precision,\n",
    "    'Recall': recall,\n",
    "    'F1 Score': f1\n",
    "}\n",
    "\n",
    "plt.figure(figsize=(6, 4))\n",
    "plt.bar(metrics.keys(), metrics.values())\n",
    "plt.ylim(0, 1)\n",
    "plt.title(\"Evaluation Metrics (Validation Set)\")\n",
    "plt.ylabel(\"Score\")\n",
    "plt.tight_layout()\n",
    "plt.show()"
   ]
  },
  {
   "cell_type": "code",
   "execution_count": 18,
   "id": "91477818",
   "metadata": {},
   "outputs": [
    {
     "name": "stdout",
     "output_type": "stream",
     "text": [
      "Precision: 0.7143\n",
      "Recall:    0.2456\n",
      "F1 Score:  0.3655\n"
     ]
    }
   ],
   "source": [
    "from sklearn.metrics import f1_score, precision_score, recall_score\n",
    "import torch\n",
    "\n",
    "model.eval()\n",
    "all_preds = []\n",
    "all_labels = []\n",
    "\n",
    "with torch.no_grad():\n",
    "    for batch in val_loader:\n",
    "        input_ids = batch['input_ids']\n",
    "        attention_mask = batch['attention_mask']\n",
    "        labels = batch['labels']\n",
    "\n",
    "        outputs = model(input_ids=input_ids, attention_mask=attention_mask)\n",
    "        logits = outputs.logits\n",
    "        probs = torch.sigmoid(logits)\n",
    "        preds = (probs > 0.5).int()\n",
    "\n",
    "        all_preds.append(preds)\n",
    "        all_labels.append(labels)\n",
    "\n",
    "all_preds = torch.cat(all_preds, dim=0)\n",
    "all_labels = torch.cat(all_labels, dim=0)\n",
    "\n",
    "y_pred = all_preds.cpu().numpy()\n",
    "y_true = all_labels.cpu().numpy()\n",
    "\n",
    "# ⬇️ These variables are what you need for the chart\n",
    "precision = precision_score(y_true, y_pred, average='micro')\n",
    "recall = recall_score(y_true, y_pred, average='micro')\n",
    "f1 = f1_score(y_true, y_pred, average='micro')\n",
    "\n",
    "print(f\"Precision: {precision:.4f}\")\n",
    "print(f\"Recall:    {recall:.4f}\")\n",
    "print(f\"F1 Score:  {f1:.4f}\")"
   ]
  },
  {
   "cell_type": "code",
   "execution_count": 19,
   "id": "c44c54bc",
   "metadata": {},
   "outputs": [
    {
     "data": {
      "image/png": "[encoded data removed]",
      "text/plain": [
       "<Figure size 600x400 with 1 Axes>"
      ]
     },
     "metadata": {},
     "output_type": "display_data"
    }
   ],
   "source": [
    "import matplotlib.pyplot as plt\n",
    "\n",
    "metrics = {\n",
    "    'Precision': precision,\n",
    "    'Recall': recall,\n",
    "    'F1 Score': f1\n",
    "}\n",
    "\n",
    "plt.figure(figsize=(6, 4))\n",
    "plt.bar(metrics.keys(), metrics.values())\n",
    "plt.ylim(0, 1)\n",
    "plt.title(\"Evaluation Metrics (Validation Set)\")\n",
    "plt.ylabel(\"Score\")\n",
    "plt.tight_layout()\n",
    "plt.show()"
   ]
  },
  {
   "cell_type": "code",
   "execution_count": 20,
   "id": "c661014f",
   "metadata": {},
   "outputs": [
    {
     "name": "stdout",
     "output_type": "stream",
     "text": [
      "Precision: 0.7143\n",
      "Recall:    0.2456\n",
      "F1 Score:  0.3655\n"
     ]
    }
   ],
   "source": [
    "from sklearn.metrics import f1_score, precision_score, recall_score\n",
    "import torch\n",
    "\n",
    "model.eval()\n",
    "all_preds = []\n",
    "all_labels = []\n",
    "\n",
    "with torch.no_grad():\n",
    "    for batch in val_loader:\n",
    "        input_ids = batch['input_ids']\n",
    "        attention_mask = batch['attention_mask']\n",
    "        labels = batch['labels']\n",
    "\n",
    "        outputs = model(input_ids=input_ids, attention_mask=attention_mask)\n",
    "        logits = outputs.logits\n",
    "        probs = torch.sigmoid(logits)\n",
    "        preds = (probs > 0.5).int()\n",
    "\n",
    "        all_preds.append(preds)\n",
    "        all_labels.append(labels)\n",
    "\n",
    "all_preds = torch.cat(all_preds, dim=0)\n",
    "all_labels = torch.cat(all_labels, dim=0)\n",
    "\n",
    "y_pred = all_preds.cpu().numpy()\n",
    "y_true = all_labels.cpu().numpy()\n",
    "\n",
    "precision = precision_score(y_true, y_pred, average='micro')\n",
    "recall = recall_score(y_true, y_pred, average='micro')\n",
    "f1 = f1_score(y_true, y_pred, average='micro')\n",
    "\n",
    "print(f\"Precision: {precision:.4f}\")\n",
    "print(f\"Recall:    {recall:.4f}\")\n",
    "print(f\"F1 Score:  {f1:.4f}\")"
   ]
  },
  {
   "cell_type": "code",
   "execution_count": null,
   "id": "7969a3b1-ac9c-499b-9954-ac96b0b6ceac",
   "metadata": {},
   "outputs": [],
   "source": []
  }
 ],
 "metadata": {
  "kernelspec": {
   "display_name": "Python 3 (ipykernel)",
   "language": "python",
   "name": "python3"
  },
  "language_info": {
   "codemirror_mode": {
    "name": "ipython",
    "version": 3
   },
   "file_extension": ".py",
   "mimetype": "text/x-python",
   "name": "python",
   "nbconvert_exporter": "python",
   "pygments_lexer": "ipython3",
   "version": "3.13.5"
  }
 },
 "nbformat": 4,
 "nbformat_minor": 5
}
